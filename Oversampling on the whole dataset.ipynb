{
 "cells": [
  {
   "cell_type": "markdown",
   "id": "5e52f7d3",
   "metadata": {},
   "source": [
    "# Used SMOTE to balance the dataset"
   ]
  },
  {
   "cell_type": "code",
   "execution_count": 1,
   "id": "69b08acf",
   "metadata": {},
   "outputs": [],
   "source": [
    "import pandas as pd\n",
    "import matplotlib.pyplot as plt\n",
    "import seaborn as sns\n",
    "import tensorflow as tf"
   ]
  },
  {
   "cell_type": "code",
   "execution_count": 2,
   "id": "1cc7d5b6",
   "metadata": {},
   "outputs": [],
   "source": [
    "malnutrition = pd.read_csv('Malnutrition data.csv')"
   ]
  },
  {
   "cell_type": "code",
   "execution_count": 3,
   "id": "eaec725e",
   "metadata": {},
   "outputs": [],
   "source": [
    "df = malnutrition"
   ]
  },
  {
   "cell_type": "code",
   "execution_count": 4,
   "id": "6fc28ecb",
   "metadata": {},
   "outputs": [
    {
     "name": "stdout",
     "output_type": "stream",
     "text": [
      "   Sex  Age  Height  Weight    Status\n",
      "0    1    5      75      17  Stunting\n",
      "1    0    4     101      13  Stunting\n",
      "2    0    4      71      17  Stunting\n",
      "3    0    3      81      13  Stunting\n",
      "4    0    1      79      16  Stunting\n"
     ]
    }
   ],
   "source": [
    "# List of columns to be removed\n",
    "columns_to_remove = [\"Low Income\", \"Lower Middle Income\", \"Upper Middle Income\"]\n",
    "\n",
    "# Create a new DataFrame with the specified columns removed\n",
    "df_filtered = df.drop(columns=columns_to_remove, axis=1)\n",
    "\n",
    "# Display the resulting DataFrame\n",
    "print(df_filtered.head())"
   ]
  },
  {
   "cell_type": "code",
   "execution_count": null,
   "id": "d4e21f09",
   "metadata": {},
   "outputs": [],
   "source": []
  },
  {
   "cell_type": "code",
   "execution_count": 5,
   "id": "ffa2bfa4",
   "metadata": {},
   "outputs": [
    {
     "name": "stdout",
     "output_type": "stream",
     "text": [
      "   Sex  Age  Height  Weight    Status\n",
      "0    1    5      75      17  Stunting\n",
      "1    0    4     101      13  Stunting\n",
      "2    0    4      71      17  Stunting\n",
      "3    0    3      81      13  Stunting\n",
      "4    0    1      79      16  Stunting\n"
     ]
    }
   ],
   "source": [
    "import pandas as pd\n",
    "from imblearn.over_sampling import SMOTE\n",
    "\n",
    "# Assuming df_filtered is your DataFrame without the specified columns\n",
    "\n",
    "# Separate features (X) and target variable (y)\n",
    "X = df_filtered.drop(\"Status\", axis=1)  # Replace \"TargetColumn\" with your actual target column name\n",
    "y = df_filtered[\"Status\"]\n",
    "\n",
    "# Instantiate SMOTE with the default n_neighbors value (usually 5)\n",
    "smote = SMOTE(k_neighbors=3,random_state=42)\n",
    "\n",
    "# Apply SMOTE to the whole dataset\n",
    "X_resampled, y_resampled = smote.fit_resample(X, y)\n",
    "\n",
    "# Create a new DataFrame with the resampled data\n",
    "df_resampled = pd.concat([pd.DataFrame(X_resampled, columns=X.columns), pd.Series(y_resampled, name=\"Status\")], axis=1)\n",
    "\n",
    "# Display the resulting DataFrame\n",
    "print(df_resampled.head())\n"
   ]
  },
  {
   "cell_type": "code",
   "execution_count": 6,
   "id": "d4aacc90",
   "metadata": {},
   "outputs": [
    {
     "name": "stdout",
     "output_type": "stream",
     "text": [
      "\n",
      "Number of samples after SMOTE:\n",
      "Stunting       696\n",
      "Overweight     696\n",
      "Underweight    696\n",
      "Wasting        696\n",
      "Name: Status, dtype: int64\n",
      "\n",
      "Resampled DataFrame:\n",
      "   Sex  Age  Height  Weight    Status\n",
      "0    1    5      75      17  Stunting\n",
      "1    0    4     101      13  Stunting\n",
      "2    0    4      71      17  Stunting\n",
      "3    0    3      81      13  Stunting\n",
      "4    0    1      79      16  Stunting\n"
     ]
    }
   ],
   "source": [
    "# Print the number of samples after applying SMOTE\n",
    "print(\"\\nNumber of samples after SMOTE:\")\n",
    "print(pd.Series(y_resampled).value_counts())\n",
    "\n",
    "# Create a new DataFrame with the resampled data\n",
    "df_resampled = pd.concat([pd.DataFrame(X_resampled, columns=X.columns), pd.Series(y_resampled, name=\"Status\")], axis=1)\n",
    "\n",
    "# Display the resulting DataFrame\n",
    "print(\"\\nResampled DataFrame:\")\n",
    "print(df_resampled.head())"
   ]
  },
  {
   "cell_type": "code",
   "execution_count": 7,
   "id": "e96629dd",
   "metadata": {},
   "outputs": [
    {
     "name": "stdout",
     "output_type": "stream",
     "text": [
      "\n",
      "Number of samples in the training set:\n",
      "Wasting        498\n",
      "Overweight     493\n",
      "Underweight    479\n",
      "Stunting       478\n",
      "Name: Status, dtype: int64\n",
      "\n",
      "Number of samples in the validation set:\n",
      "Overweight     110\n",
      "Wasting        106\n",
      "Underweight    104\n",
      "Stunting        98\n",
      "Name: Status, dtype: int64\n",
      "\n",
      "Number of samples in the testing set:\n",
      "Stunting       120\n",
      "Underweight    113\n",
      "Overweight      93\n",
      "Wasting         92\n",
      "Name: Status, dtype: int64\n"
     ]
    }
   ],
   "source": [
    "from sklearn.model_selection import train_test_split\n",
    "\n",
    "# Separate features (X) and target variable (y) from the resampled DataFrame\n",
    "X_resampled = df_resampled.drop(\"Status\", axis=1)\n",
    "y_resampled = df_resampled[\"Status\"]\n",
    "\n",
    "# Split the resampled data into training (70%) and temp (30%)\n",
    "X_train, X_temp, y_train, y_temp = train_test_split(X_resampled, y_resampled, test_size=0.3, random_state=42)\n",
    "\n",
    "# Split the temp data into validation (50% of temp, or 15% of the original) and testing (50% of temp, or 15% of the original)\n",
    "X_val, X_test, y_val, y_test = train_test_split(X_temp, y_temp, test_size=0.5, random_state=42)\n",
    "\n",
    "# Print the number of samples in each set\n",
    "print(\"\\nNumber of samples in the training set:\")\n",
    "print(y_train.value_counts())\n",
    "\n",
    "print(\"\\nNumber of samples in the validation set:\")\n",
    "print(y_val.value_counts())\n",
    "\n",
    "print(\"\\nNumber of samples in the testing set:\")\n",
    "print(y_test.value_counts())\n"
   ]
  },
  {
   "cell_type": "code",
   "execution_count": 8,
   "id": "f5c403bf",
   "metadata": {},
   "outputs": [],
   "source": [
    "# Using the resampled dataset to generate Random Forest Classifier"
   ]
  },
  {
   "cell_type": "code",
   "execution_count": 9,
   "id": "b0a5cc66",
   "metadata": {},
   "outputs": [
    {
     "name": "stdout",
     "output_type": "stream",
     "text": [
      "\n",
      "Validation Set:\n",
      "Accuracy: 83.01%\n",
      "              precision    recall  f1-score   support\n",
      "\n",
      "  Overweight       0.82      0.78      0.80       110\n",
      "    Stunting       0.77      0.58      0.66        98\n",
      " Underweight       0.78      0.94      0.85       104\n",
      "     Wasting       0.94      1.00      0.97       106\n",
      "\n",
      "    accuracy                           0.83       418\n",
      "   macro avg       0.83      0.83      0.82       418\n",
      "weighted avg       0.83      0.83      0.82       418\n",
      "\n",
      "\n",
      "Test Set:\n",
      "Accuracy: 85.41%\n",
      "              precision    recall  f1-score   support\n",
      "\n",
      "  Overweight       0.77      0.84      0.80        93\n",
      "    Stunting       0.88      0.68      0.77       120\n",
      " Underweight       0.84      0.94      0.89       113\n",
      "     Wasting       0.93      0.99      0.96        92\n",
      "\n",
      "    accuracy                           0.85       418\n",
      "   macro avg       0.86      0.86      0.85       418\n",
      "weighted avg       0.86      0.85      0.85       418\n",
      "\n"
     ]
    }
   ],
   "source": [
    "from sklearn.ensemble import RandomForestClassifier\n",
    "from sklearn.metrics import classification_report, accuracy_score\n",
    "\n",
    "# Create a Random Forest Classifier\n",
    "rf_classifier = RandomForestClassifier(n_estimators=100, random_state=42)\n",
    "\n",
    "# Train the classifier on the training data\n",
    "rf_classifier.fit(X_train, y_train)\n",
    "\n",
    "# Make predictions on the validation set\n",
    "y_val_pred = rf_classifier.predict(X_val)\n",
    "\n",
    "# Evaluate the model on the validation set\n",
    "accuracy_val = accuracy_score(y_val, y_val_pred)\n",
    "print(\"\\nValidation Set:\")\n",
    "print(f\"Accuracy: {accuracy_val:.2%}\")\n",
    "print(classification_report(y_val, y_val_pred))\n",
    "\n",
    "# Make predictions on the test set\n",
    "y_test_pred = rf_classifier.predict(X_test)\n",
    "\n",
    "# Evaluate the model on the test set\n",
    "accuracy_test = accuracy_score(y_test, y_test_pred)\n",
    "print(\"\\nTest Set:\")\n",
    "print(f\"Accuracy: {accuracy_test:.2%}\")\n",
    "print(classification_report(y_test, y_test_pred))\n"
   ]
  },
  {
   "cell_type": "code",
   "execution_count": null,
   "id": "29e3f2c0",
   "metadata": {},
   "outputs": [],
   "source": []
  },
  {
   "cell_type": "code",
   "execution_count": null,
   "id": "1cb9eb8b",
   "metadata": {},
   "outputs": [],
   "source": []
  }
 ],
 "metadata": {
  "kernelspec": {
   "display_name": "Python 3 (ipykernel)",
   "language": "python",
   "name": "python3"
  },
  "language_info": {
   "codemirror_mode": {
    "name": "ipython",
    "version": 3
   },
   "file_extension": ".py",
   "mimetype": "text/x-python",
   "name": "python",
   "nbconvert_exporter": "python",
   "pygments_lexer": "ipython3",
   "version": "3.10.9"
  }
 },
 "nbformat": 4,
 "nbformat_minor": 5
}
