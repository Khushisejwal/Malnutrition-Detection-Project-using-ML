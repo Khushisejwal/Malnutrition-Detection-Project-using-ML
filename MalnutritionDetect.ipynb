{
 "cells": [
  {
   "cell_type": "markdown",
   "id": "1146ba9e",
   "metadata": {},
   "source": [
    "# Malnutrition detection "
   ]
  },
  {
   "cell_type": "code",
   "execution_count": 1,
   "id": "37ce43b5",
   "metadata": {},
   "outputs": [],
   "source": [
    "import pandas as pd\n",
    "import matplotlib.pyplot as plt\n",
    "import seaborn as sns\n",
    "import tensorflow as tf"
   ]
  },
  {
   "cell_type": "code",
   "execution_count": 2,
   "id": "73ac41e5",
   "metadata": {},
   "outputs": [],
   "source": [
    "malnutrition = pd.read_csv('Malnutrition data.csv')"
   ]
  },
  {
   "cell_type": "code",
   "execution_count": 3,
   "id": "6c9305a2",
   "metadata": {},
   "outputs": [],
   "source": [
    "df = malnutrition"
   ]
  },
  {
   "cell_type": "code",
   "execution_count": 4,
   "id": "21a8e82f",
   "metadata": {},
   "outputs": [
    {
     "data": {
      "text/html": [
       "<div>\n",
       "<style scoped>\n",
       "    .dataframe tbody tr th:only-of-type {\n",
       "        vertical-align: middle;\n",
       "    }\n",
       "\n",
       "    .dataframe tbody tr th {\n",
       "        vertical-align: top;\n",
       "    }\n",
       "\n",
       "    .dataframe thead th {\n",
       "        text-align: right;\n",
       "    }\n",
       "</style>\n",
       "<table border=\"1\" class=\"dataframe\">\n",
       "  <thead>\n",
       "    <tr style=\"text-align: right;\">\n",
       "      <th></th>\n",
       "      <th>Sex</th>\n",
       "      <th>Age</th>\n",
       "      <th>Height</th>\n",
       "      <th>Weight</th>\n",
       "      <th>Low Income</th>\n",
       "      <th>Lower Middle Income</th>\n",
       "      <th>Upper Middle Income</th>\n",
       "      <th>Status</th>\n",
       "    </tr>\n",
       "  </thead>\n",
       "  <tbody>\n",
       "    <tr>\n",
       "      <th>0</th>\n",
       "      <td>1</td>\n",
       "      <td>5</td>\n",
       "      <td>75</td>\n",
       "      <td>17</td>\n",
       "      <td>1</td>\n",
       "      <td>0</td>\n",
       "      <td>0</td>\n",
       "      <td>Stunting</td>\n",
       "    </tr>\n",
       "    <tr>\n",
       "      <th>1</th>\n",
       "      <td>0</td>\n",
       "      <td>4</td>\n",
       "      <td>101</td>\n",
       "      <td>13</td>\n",
       "      <td>1</td>\n",
       "      <td>0</td>\n",
       "      <td>0</td>\n",
       "      <td>Stunting</td>\n",
       "    </tr>\n",
       "    <tr>\n",
       "      <th>2</th>\n",
       "      <td>0</td>\n",
       "      <td>4</td>\n",
       "      <td>71</td>\n",
       "      <td>17</td>\n",
       "      <td>1</td>\n",
       "      <td>0</td>\n",
       "      <td>0</td>\n",
       "      <td>Stunting</td>\n",
       "    </tr>\n",
       "    <tr>\n",
       "      <th>3</th>\n",
       "      <td>0</td>\n",
       "      <td>3</td>\n",
       "      <td>81</td>\n",
       "      <td>13</td>\n",
       "      <td>0</td>\n",
       "      <td>0</td>\n",
       "      <td>1</td>\n",
       "      <td>Stunting</td>\n",
       "    </tr>\n",
       "    <tr>\n",
       "      <th>4</th>\n",
       "      <td>0</td>\n",
       "      <td>1</td>\n",
       "      <td>79</td>\n",
       "      <td>16</td>\n",
       "      <td>0</td>\n",
       "      <td>0</td>\n",
       "      <td>1</td>\n",
       "      <td>Stunting</td>\n",
       "    </tr>\n",
       "  </tbody>\n",
       "</table>\n",
       "</div>"
      ],
      "text/plain": [
       "   Sex  Age  Height  Weight  Low Income  Lower Middle Income  \\\n",
       "0    1    5      75      17           1                    0   \n",
       "1    0    4     101      13           1                    0   \n",
       "2    0    4      71      17           1                    0   \n",
       "3    0    3      81      13           0                    0   \n",
       "4    0    1      79      16           0                    0   \n",
       "\n",
       "   Upper Middle Income    Status  \n",
       "0                    0  Stunting  \n",
       "1                    0  Stunting  \n",
       "2                    0  Stunting  \n",
       "3                    1  Stunting  \n",
       "4                    1  Stunting  "
      ]
     },
     "execution_count": 4,
     "metadata": {},
     "output_type": "execute_result"
    }
   ],
   "source": [
    "malnutrition.head()"
   ]
  },
  {
   "cell_type": "code",
   "execution_count": 5,
   "id": "668337ed",
   "metadata": {},
   "outputs": [],
   "source": [
    "# Checking the number of entries and any missing values"
   ]
  },
  {
   "cell_type": "code",
   "execution_count": 6,
   "id": "0ae7817b",
   "metadata": {},
   "outputs": [
    {
     "name": "stdout",
     "output_type": "stream",
     "text": [
      "<class 'pandas.core.frame.DataFrame'>\n",
      "RangeIndex: 837 entries, 0 to 836\n",
      "Data columns (total 8 columns):\n",
      " #   Column               Non-Null Count  Dtype \n",
      "---  ------               --------------  ----- \n",
      " 0   Sex                  837 non-null    int64 \n",
      " 1   Age                  837 non-null    int64 \n",
      " 2   Height               837 non-null    int64 \n",
      " 3   Weight               837 non-null    int64 \n",
      " 4   Low Income           837 non-null    int64 \n",
      " 5   Lower Middle Income  837 non-null    int64 \n",
      " 6   Upper Middle Income  837 non-null    int64 \n",
      " 7   Status               837 non-null    object\n",
      "dtypes: int64(7), object(1)\n",
      "memory usage: 52.4+ KB\n"
     ]
    }
   ],
   "source": [
    "df.info()"
   ]
  },
  {
   "cell_type": "code",
   "execution_count": 7,
   "id": "0f0946c8",
   "metadata": {},
   "outputs": [],
   "source": [
    "# Dealing with categorical data"
   ]
  },
  {
   "cell_type": "code",
   "execution_count": 8,
   "id": "eb22b74b",
   "metadata": {},
   "outputs": [
    {
     "data": {
      "text/plain": [
       "1    421\n",
       "0    416\n",
       "Name: Sex, dtype: int64"
      ]
     },
     "execution_count": 8,
     "metadata": {},
     "output_type": "execute_result"
    }
   ],
   "source": [
    "df['Sex'].value_counts()"
   ]
  },
  {
   "cell_type": "code",
   "execution_count": 9,
   "id": "bb9728b6",
   "metadata": {},
   "outputs": [
    {
     "data": {
      "text/plain": [
       "Stunting       696\n",
       "Overweight      94\n",
       "Underweight     43\n",
       "Wasting          4\n",
       "Name: Status, dtype: int64"
      ]
     },
     "execution_count": 9,
     "metadata": {},
     "output_type": "execute_result"
    }
   ],
   "source": [
    "df['Status'].value_counts()"
   ]
  },
  {
   "cell_type": "code",
   "execution_count": 10,
   "id": "0fe714a2",
   "metadata": {},
   "outputs": [
    {
     "data": {
      "text/html": [
       "<div>\n",
       "<style scoped>\n",
       "    .dataframe tbody tr th:only-of-type {\n",
       "        vertical-align: middle;\n",
       "    }\n",
       "\n",
       "    .dataframe tbody tr th {\n",
       "        vertical-align: top;\n",
       "    }\n",
       "\n",
       "    .dataframe thead th {\n",
       "        text-align: right;\n",
       "    }\n",
       "</style>\n",
       "<table border=\"1\" class=\"dataframe\">\n",
       "  <thead>\n",
       "    <tr style=\"text-align: right;\">\n",
       "      <th></th>\n",
       "      <th>Sex</th>\n",
       "      <th>Age</th>\n",
       "      <th>Height</th>\n",
       "      <th>Weight</th>\n",
       "      <th>Low Income</th>\n",
       "      <th>Lower Middle Income</th>\n",
       "      <th>Upper Middle Income</th>\n",
       "    </tr>\n",
       "  </thead>\n",
       "  <tbody>\n",
       "    <tr>\n",
       "      <th>count</th>\n",
       "      <td>837.000000</td>\n",
       "      <td>837.000000</td>\n",
       "      <td>837.000000</td>\n",
       "      <td>837.000000</td>\n",
       "      <td>837.000000</td>\n",
       "      <td>837.000000</td>\n",
       "      <td>837.000000</td>\n",
       "    </tr>\n",
       "    <tr>\n",
       "      <th>mean</th>\n",
       "      <td>0.502987</td>\n",
       "      <td>2.947431</td>\n",
       "      <td>88.559140</td>\n",
       "      <td>14.463560</td>\n",
       "      <td>0.227001</td>\n",
       "      <td>0.397849</td>\n",
       "      <td>0.291517</td>\n",
       "    </tr>\n",
       "    <tr>\n",
       "      <th>std</th>\n",
       "      <td>0.500290</td>\n",
       "      <td>1.406447</td>\n",
       "      <td>10.821536</td>\n",
       "      <td>3.457559</td>\n",
       "      <td>0.419144</td>\n",
       "      <td>0.489747</td>\n",
       "      <td>0.454733</td>\n",
       "    </tr>\n",
       "    <tr>\n",
       "      <th>min</th>\n",
       "      <td>0.000000</td>\n",
       "      <td>1.000000</td>\n",
       "      <td>70.000000</td>\n",
       "      <td>9.000000</td>\n",
       "      <td>0.000000</td>\n",
       "      <td>0.000000</td>\n",
       "      <td>0.000000</td>\n",
       "    </tr>\n",
       "    <tr>\n",
       "      <th>25%</th>\n",
       "      <td>0.000000</td>\n",
       "      <td>2.000000</td>\n",
       "      <td>80.000000</td>\n",
       "      <td>11.000000</td>\n",
       "      <td>0.000000</td>\n",
       "      <td>0.000000</td>\n",
       "      <td>0.000000</td>\n",
       "    </tr>\n",
       "    <tr>\n",
       "      <th>50%</th>\n",
       "      <td>1.000000</td>\n",
       "      <td>3.000000</td>\n",
       "      <td>89.000000</td>\n",
       "      <td>15.000000</td>\n",
       "      <td>0.000000</td>\n",
       "      <td>0.000000</td>\n",
       "      <td>0.000000</td>\n",
       "    </tr>\n",
       "    <tr>\n",
       "      <th>75%</th>\n",
       "      <td>1.000000</td>\n",
       "      <td>4.000000</td>\n",
       "      <td>98.000000</td>\n",
       "      <td>17.000000</td>\n",
       "      <td>0.000000</td>\n",
       "      <td>1.000000</td>\n",
       "      <td>1.000000</td>\n",
       "    </tr>\n",
       "    <tr>\n",
       "      <th>max</th>\n",
       "      <td>1.000000</td>\n",
       "      <td>5.000000</td>\n",
       "      <td>107.000000</td>\n",
       "      <td>20.000000</td>\n",
       "      <td>1.000000</td>\n",
       "      <td>1.000000</td>\n",
       "      <td>1.000000</td>\n",
       "    </tr>\n",
       "  </tbody>\n",
       "</table>\n",
       "</div>"
      ],
      "text/plain": [
       "              Sex         Age      Height      Weight  Low Income  \\\n",
       "count  837.000000  837.000000  837.000000  837.000000  837.000000   \n",
       "mean     0.502987    2.947431   88.559140   14.463560    0.227001   \n",
       "std      0.500290    1.406447   10.821536    3.457559    0.419144   \n",
       "min      0.000000    1.000000   70.000000    9.000000    0.000000   \n",
       "25%      0.000000    2.000000   80.000000   11.000000    0.000000   \n",
       "50%      1.000000    3.000000   89.000000   15.000000    0.000000   \n",
       "75%      1.000000    4.000000   98.000000   17.000000    0.000000   \n",
       "max      1.000000    5.000000  107.000000   20.000000    1.000000   \n",
       "\n",
       "       Lower Middle Income  Upper Middle Income  \n",
       "count           837.000000           837.000000  \n",
       "mean              0.397849             0.291517  \n",
       "std               0.489747             0.454733  \n",
       "min               0.000000             0.000000  \n",
       "25%               0.000000             0.000000  \n",
       "50%               0.000000             0.000000  \n",
       "75%               1.000000             1.000000  \n",
       "max               1.000000             1.000000  "
      ]
     },
     "execution_count": 10,
     "metadata": {},
     "output_type": "execute_result"
    }
   ],
   "source": [
    "df.describe()"
   ]
  },
  {
   "cell_type": "code",
   "execution_count": 11,
   "id": "af4ed429",
   "metadata": {},
   "outputs": [
    {
     "data": {
      "text/plain": [
       "array([[<Axes: title={'center': 'Sex'}>, <Axes: title={'center': 'Age'}>,\n",
       "        <Axes: title={'center': 'Height'}>],\n",
       "       [<Axes: title={'center': 'Weight'}>,\n",
       "        <Axes: title={'center': 'Low Income'}>,\n",
       "        <Axes: title={'center': 'Lower Middle Income'}>],\n",
       "       [<Axes: title={'center': 'Upper Middle Income'}>, <Axes: >,\n",
       "        <Axes: >]], dtype=object)"
      ]
     },
     "execution_count": 11,
     "metadata": {},
     "output_type": "execute_result"
    },
    {
     "data": {
      "image/png": "[encoded data removed]",
      "text/plain": [
       "<Figure size 2000x1500 with 9 Axes>"
      ]
     },
     "metadata": {},
     "output_type": "display_data"
    }
   ],
   "source": [
    "df.hist(bins=50, figsize=(20,15))"
   ]
  },
  {
   "cell_type": "code",
   "execution_count": 12,
   "id": "a6e7a48a",
   "metadata": {},
   "outputs": [],
   "source": [
    "# Visualising informaiton about the Status column which is categorical data"
   ]
  },
  {
   "cell_type": "code",
   "execution_count": 13,
   "id": "0d96fcc2",
   "metadata": {},
   "outputs": [
    {
     "data": {
      "image/png": "[encoded data removed]",
      "text/plain": [
       "<Figure size 1000x600 with 1 Axes>"
      ]
     },
     "metadata": {},
     "output_type": "display_data"
    }
   ],
   "source": [
    "df['Status'].value_counts().plot(kind='bar', figsize=(10, 6), color='skyblue')\n",
    "\n",
    "plt.title('Distribution of Status')\n",
    "plt.xlabel('Status')\n",
    "plt.ylabel('Frequency')\n",
    "plt.show()"
   ]
  },
  {
   "cell_type": "code",
   "execution_count": 14,
   "id": "1b3262d1",
   "metadata": {},
   "outputs": [
    {
     "name": "stdout",
     "output_type": "stream",
     "text": [
      "Index(['Sex', 'Age', 'Height', 'Weight', 'Low Income', 'Lower Middle Income',\n",
      "       'Upper Middle Income', 'Status'],\n",
      "      dtype='object')\n"
     ]
    }
   ],
   "source": [
    "print(df.columns)"
   ]
  },
  {
   "cell_type": "code",
   "execution_count": null,
   "id": "80c87bd8",
   "metadata": {},
   "outputs": [],
   "source": []
  },
  {
   "cell_type": "code",
   "execution_count": null,
   "id": "34b2d3eb",
   "metadata": {},
   "outputs": [],
   "source": []
  },
  {
   "cell_type": "code",
   "execution_count": 15,
   "id": "0f9a9760",
   "metadata": {},
   "outputs": [],
   "source": [
    "# Removing the unwanted columns as seen below:"
   ]
  },
  {
   "cell_type": "code",
   "execution_count": 16,
   "id": "612be338",
   "metadata": {},
   "outputs": [],
   "source": [
    "df = df.drop('Low Income '.strip(), axis=1)\n",
    "df = df.drop('Lower Middle Income '.strip(), axis=1)\n",
    "df = df.drop('Upper Middle Income '.strip(), axis=1)"
   ]
  },
  {
   "cell_type": "code",
   "execution_count": null,
   "id": "71b42acb",
   "metadata": {},
   "outputs": [],
   "source": []
  },
  {
   "cell_type": "code",
   "execution_count": 17,
   "id": "6e02e0f5",
   "metadata": {},
   "outputs": [
    {
     "data": {
      "text/html": [
       "<div>\n",
       "<style scoped>\n",
       "    .dataframe tbody tr th:only-of-type {\n",
       "        vertical-align: middle;\n",
       "    }\n",
       "\n",
       "    .dataframe tbody tr th {\n",
       "        vertical-align: top;\n",
       "    }\n",
       "\n",
       "    .dataframe thead th {\n",
       "        text-align: right;\n",
       "    }\n",
       "</style>\n",
       "<table border=\"1\" class=\"dataframe\">\n",
       "  <thead>\n",
       "    <tr style=\"text-align: right;\">\n",
       "      <th></th>\n",
       "      <th>Sex</th>\n",
       "      <th>Age</th>\n",
       "      <th>Height</th>\n",
       "      <th>Weight</th>\n",
       "    </tr>\n",
       "  </thead>\n",
       "  <tbody>\n",
       "    <tr>\n",
       "      <th>count</th>\n",
       "      <td>837.000000</td>\n",
       "      <td>837.000000</td>\n",
       "      <td>837.000000</td>\n",
       "      <td>837.000000</td>\n",
       "    </tr>\n",
       "    <tr>\n",
       "      <th>mean</th>\n",
       "      <td>0.502987</td>\n",
       "      <td>2.947431</td>\n",
       "      <td>88.559140</td>\n",
       "      <td>14.463560</td>\n",
       "    </tr>\n",
       "    <tr>\n",
       "      <th>std</th>\n",
       "      <td>0.500290</td>\n",
       "      <td>1.406447</td>\n",
       "      <td>10.821536</td>\n",
       "      <td>3.457559</td>\n",
       "    </tr>\n",
       "    <tr>\n",
       "      <th>min</th>\n",
       "      <td>0.000000</td>\n",
       "      <td>1.000000</td>\n",
       "      <td>70.000000</td>\n",
       "      <td>9.000000</td>\n",
       "    </tr>\n",
       "    <tr>\n",
       "      <th>25%</th>\n",
       "      <td>0.000000</td>\n",
       "      <td>2.000000</td>\n",
       "      <td>80.000000</td>\n",
       "      <td>11.000000</td>\n",
       "    </tr>\n",
       "    <tr>\n",
       "      <th>50%</th>\n",
       "      <td>1.000000</td>\n",
       "      <td>3.000000</td>\n",
       "      <td>89.000000</td>\n",
       "      <td>15.000000</td>\n",
       "    </tr>\n",
       "    <tr>\n",
       "      <th>75%</th>\n",
       "      <td>1.000000</td>\n",
       "      <td>4.000000</td>\n",
       "      <td>98.000000</td>\n",
       "      <td>17.000000</td>\n",
       "    </tr>\n",
       "    <tr>\n",
       "      <th>max</th>\n",
       "      <td>1.000000</td>\n",
       "      <td>5.000000</td>\n",
       "      <td>107.000000</td>\n",
       "      <td>20.000000</td>\n",
       "    </tr>\n",
       "  </tbody>\n",
       "</table>\n",
       "</div>"
      ],
      "text/plain": [
       "              Sex         Age      Height      Weight\n",
       "count  837.000000  837.000000  837.000000  837.000000\n",
       "mean     0.502987    2.947431   88.559140   14.463560\n",
       "std      0.500290    1.406447   10.821536    3.457559\n",
       "min      0.000000    1.000000   70.000000    9.000000\n",
       "25%      0.000000    2.000000   80.000000   11.000000\n",
       "50%      1.000000    3.000000   89.000000   15.000000\n",
       "75%      1.000000    4.000000   98.000000   17.000000\n",
       "max      1.000000    5.000000  107.000000   20.000000"
      ]
     },
     "execution_count": 17,
     "metadata": {},
     "output_type": "execute_result"
    }
   ],
   "source": [
    "df.describe()"
   ]
  },
  {
   "cell_type": "code",
   "execution_count": 18,
   "id": "951f2a2b",
   "metadata": {},
   "outputs": [],
   "source": [
    "# Separating the labels and features"
   ]
  },
  {
   "cell_type": "code",
   "execution_count": 19,
   "id": "a88d9685",
   "metadata": {},
   "outputs": [],
   "source": [
    "X = df.drop(\"Status\", axis=1)  # Features\n",
    "y = df[\"Status\"]  # Labels\n",
    "\n",
    "# X = df.iloc[:, :4]\n",
    "# y = df.iloc[:, 4]"
   ]
  },
  {
   "cell_type": "code",
   "execution_count": 20,
   "id": "863f9c2c",
   "metadata": {},
   "outputs": [],
   "source": [
    "# Visualising the interger type data using a histogram"
   ]
  },
  {
   "cell_type": "code",
   "execution_count": 21,
   "id": "fdc5f97d",
   "metadata": {},
   "outputs": [
    {
     "data": {
      "text/plain": [
       "array([[<Axes: title={'center': 'Sex'}>, <Axes: title={'center': 'Age'}>],\n",
       "       [<Axes: title={'center': 'Height'}>,\n",
       "        <Axes: title={'center': 'Weight'}>]], dtype=object)"
      ]
     },
     "execution_count": 21,
     "metadata": {},
     "output_type": "execute_result"
    },
    {
     "data": {
      "image/png": "[encoded data removed]",
      "text/plain": [
       "<Figure size 2000x1500 with 4 Axes>"
      ]
     },
     "metadata": {},
     "output_type": "display_data"
    }
   ],
   "source": [
    "df.hist(bins=50, figsize=(20,15))"
   ]
  },
  {
   "cell_type": "code",
   "execution_count": 22,
   "id": "613d97cc",
   "metadata": {},
   "outputs": [
    {
     "name": "stdout",
     "output_type": "stream",
     "text": [
      "<class 'pandas.core.frame.DataFrame'>\n",
      "RangeIndex: 837 entries, 0 to 836\n",
      "Data columns (total 5 columns):\n",
      " #   Column  Non-Null Count  Dtype \n",
      "---  ------  --------------  ----- \n",
      " 0   Sex     837 non-null    int64 \n",
      " 1   Age     837 non-null    int64 \n",
      " 2   Height  837 non-null    int64 \n",
      " 3   Weight  837 non-null    int64 \n",
      " 4   Status  837 non-null    object\n",
      "dtypes: int64(4), object(1)\n",
      "memory usage: 32.8+ KB\n"
     ]
    }
   ],
   "source": [
    "df.info()"
   ]
  },
  {
   "cell_type": "code",
   "execution_count": 23,
   "id": "ce372e8f",
   "metadata": {},
   "outputs": [],
   "source": [
    "# df_plot = pd.concat([X, y], axis=1)\n",
    "\n",
    "# # Create a box plot\n",
    "# plt.figure(figsize=(12, 8))\n",
    "# sns.boxplot(data=df_plot, x='Status', y='Height') \n",
    "# plt.title('Box Plot of Age by Status')\n",
    "# plt.show()"
   ]
  },
  {
   "cell_type": "code",
   "execution_count": 24,
   "id": "e0893863",
   "metadata": {},
   "outputs": [],
   "source": [
    "# df_plot = pd.concat([X, y], axis=1)\n",
    "\n",
    "# # Create box plots for all features\n",
    "# plt.figure(figsize=(16, 10))\n",
    "# sns.boxplot(data=df_plot.drop('Status', axis=1))\n",
    "# plt.title('Box Plots of Features by Status')\n",
    "# plt.xticks(rotation=45, ha='right')  # Rotate x-axis labels for better readability\n",
    "# plt.show()"
   ]
  },
  {
   "cell_type": "code",
   "execution_count": 25,
   "id": "db61dfa8",
   "metadata": {},
   "outputs": [],
   "source": [
    "## Splitting the dataset into training, validation and testing"
   ]
  },
  {
   "cell_type": "code",
   "execution_count": 26,
   "id": "2dae8518",
   "metadata": {},
   "outputs": [],
   "source": [
    "from sklearn.model_selection import train_test_split\n",
    "from sklearn.ensemble import RandomForestClassifier\n",
    "from sklearn.metrics import accuracy_score"
   ]
  },
  {
   "cell_type": "code",
   "execution_count": 27,
   "id": "5d734e76",
   "metadata": {},
   "outputs": [
    {
     "name": "stdout",
     "output_type": "stream",
     "text": [
      "Training set: (585, 4) (585,)\n",
      "Validation set: (126, 4) (126,)\n",
      "Testing set: (126, 4) (126,)\n"
     ]
    }
   ],
   "source": [
    "X_train, X_temp, y_train, y_temp = train_test_split(X, y, test_size=0.3, random_state=42)\n",
    "\n",
    "# Split the 'temp' sets into validation and test sets\n",
    "X_val, X_test, y_val, y_test = train_test_split(X_temp, y_temp, test_size=0.5, random_state=42)\n",
    "\n",
    "# Print the shapes of the resulting sets\n",
    "print(\"Training set:\", X_train.shape, y_train.shape)\n",
    "print(\"Validation set:\", X_val.shape, y_val.shape)\n",
    "print(\"Testing set:\", X_test.shape, y_test.shape)"
   ]
  },
  {
   "cell_type": "code",
   "execution_count": 28,
   "id": "be88a685",
   "metadata": {},
   "outputs": [],
   "source": [
    "# from sklearn.ensemble import RandomForestClassifier\n",
    "# model = RandomForestClassifier(n_estimators=300)\n",
    "# model.fit(X_train, y_train)"
   ]
  },
  {
   "cell_type": "code",
   "execution_count": 29,
   "id": "1a9de2a5",
   "metadata": {},
   "outputs": [],
   "source": [
    "# predict = model.predict(X_temp)\n",
    "# predict"
   ]
  },
  {
   "cell_type": "code",
   "execution_count": 30,
   "id": "1a1f59bd",
   "metadata": {},
   "outputs": [],
   "source": [
    "# from sklearn.metrics import confusion_matrix, classification_report, accuracy_score\n",
    "# print(confusion_matrix(y_temp, predict))\n",
    "# print(classification_report(y_temp, predict))\n",
    "# print(\"Accuracy Of Our Model Is:-\",accuracy_score(y_temp, predict)*100, \"%\")"
   ]
  },
  {
   "cell_type": "code",
   "execution_count": 31,
   "id": "e33a1b22",
   "metadata": {},
   "outputs": [],
   "source": [
    "# rf_classifier = RandomForestClassifier(random_state=42)\n",
    "\n",
    "# # Train the classifier on the training set\n",
    "# rf_classifier.fit(X_train, y_train)\n",
    "\n",
    "# # Make predictions on the validation set\n",
    "# y_val_pred = rf_classifier.predict(X_val)\n",
    "\n",
    "# # Evaluate the accuracy on the validation set\n",
    "# val_accuracy = accuracy_score(y_val, y_val_pred)*100\n",
    "# print(f'Validation Accuracy: {val_accuracy:.2f}')\n",
    "\n",
    "# # Make predictions on the test set\n",
    "# y_test_pred = rf_classifier.predict(X_test)\n",
    "\n",
    "# # Evaluate the accuracy on the test set\n",
    "# test_accuracy = accuracy_score(y_test, y_test_pred)*100\n",
    "# print(f'Test Accuracy: {test_accuracy:.2f}')"
   ]
  },
  {
   "cell_type": "code",
   "execution_count": 32,
   "id": "0c421a74",
   "metadata": {},
   "outputs": [
    {
     "name": "stdout",
     "output_type": "stream",
     "text": [
      "Validation Set:\n",
      "[[  2   7   1   0]\n",
      " [  5 103   2   0]\n",
      " [  1   4   0   0]\n",
      " [  0   1   0   0]]\n",
      "              precision    recall  f1-score   support\n",
      "\n",
      "  Overweight       0.25      0.20      0.22        10\n",
      "    Stunting       0.90      0.94      0.92       110\n",
      " Underweight       0.00      0.00      0.00         5\n",
      "     Wasting       0.00      0.00      0.00         1\n",
      "\n",
      "    accuracy                           0.83       126\n",
      "   macro avg       0.29      0.28      0.28       126\n",
      "weighted avg       0.80      0.83      0.82       126\n",
      "\n",
      "Accuracy: 83.33%\n",
      "\n",
      "Temporary Set:\n",
      "[[  2  25   1   0]\n",
      " [ 10 194   7   0]\n",
      " [  2  10   0   0]\n",
      " [  0   1   0   0]]\n",
      "              precision    recall  f1-score   support\n",
      "\n",
      "  Overweight       0.14      0.07      0.10        28\n",
      "    Stunting       0.84      0.92      0.88       211\n",
      " Underweight       0.00      0.00      0.00        12\n",
      "     Wasting       0.00      0.00      0.00         1\n",
      "\n",
      "    accuracy                           0.78       252\n",
      "   macro avg       0.25      0.25      0.24       252\n",
      "weighted avg       0.72      0.78      0.75       252\n",
      "\n",
      "Accuracy: 77.78%\n"
     ]
    },
    {
     "name": "stderr",
     "output_type": "stream",
     "text": [
      "/Users/kushalsharma/anaconda3/lib/python3.10/site-packages/sklearn/metrics/_classification.py:1327: UndefinedMetricWarning: Precision and F-score are ill-defined and being set to 0.0 in labels with no predicted samples. Use `zero_division` parameter to control this behavior.\n",
      "  _warn_prf(average, modifier, msg_start, len(result))\n",
      "/Users/kushalsharma/anaconda3/lib/python3.10/site-packages/sklearn/metrics/_classification.py:1327: UndefinedMetricWarning: Precision and F-score are ill-defined and being set to 0.0 in labels with no predicted samples. Use `zero_division` parameter to control this behavior.\n",
      "  _warn_prf(average, modifier, msg_start, len(result))\n",
      "/Users/kushalsharma/anaconda3/lib/python3.10/site-packages/sklearn/metrics/_classification.py:1327: UndefinedMetricWarning: Precision and F-score are ill-defined and being set to 0.0 in labels with no predicted samples. Use `zero_division` parameter to control this behavior.\n",
      "  _warn_prf(average, modifier, msg_start, len(result))\n",
      "/Users/kushalsharma/anaconda3/lib/python3.10/site-packages/sklearn/metrics/_classification.py:1327: UndefinedMetricWarning: Precision and F-score are ill-defined and being set to 0.0 in labels with no predicted samples. Use `zero_division` parameter to control this behavior.\n",
      "  _warn_prf(average, modifier, msg_start, len(result))\n",
      "/Users/kushalsharma/anaconda3/lib/python3.10/site-packages/sklearn/metrics/_classification.py:1327: UndefinedMetricWarning: Precision and F-score are ill-defined and being set to 0.0 in labels with no predicted samples. Use `zero_division` parameter to control this behavior.\n",
      "  _warn_prf(average, modifier, msg_start, len(result))\n",
      "/Users/kushalsharma/anaconda3/lib/python3.10/site-packages/sklearn/metrics/_classification.py:1327: UndefinedMetricWarning: Precision and F-score are ill-defined and being set to 0.0 in labels with no predicted samples. Use `zero_division` parameter to control this behavior.\n",
      "  _warn_prf(average, modifier, msg_start, len(result))\n"
     ]
    }
   ],
   "source": [
    "from sklearn.ensemble import RandomForestClassifier\n",
    "from sklearn.metrics import confusion_matrix, classification_report, accuracy_score\n",
    "\n",
    "# Train the model on the training set\n",
    "model = RandomForestClassifier(n_estimators=300)\n",
    "model.fit(X_train, y_train)\n",
    "\n",
    "# Predictions on the validation set\n",
    "y_val_pred = model.predict(X_val)\n",
    "\n",
    "# Evaluate the model on the validation set\n",
    "print(\"Validation Set:\")\n",
    "print(confusion_matrix(y_val, y_val_pred))\n",
    "print(classification_report(y_val, y_val_pred))\n",
    "print(\"Accuracy: {:.2f}%\".format(accuracy_score(y_val, y_val_pred) * 100))\n",
    "\n",
    "# Predictions on the temporary set\n",
    "y_temp_pred = model.predict(X_temp)\n",
    "\n",
    "# Evaluate the model on the temporary set\n",
    "print(\"\\nTemporary Set:\")\n",
    "print(confusion_matrix(y_temp, y_temp_pred))\n",
    "print(classification_report(y_temp, y_temp_pred))\n",
    "print(\"Accuracy: {:.2f}%\".format(accuracy_score(y_temp, y_temp_pred) * 100))\n"
   ]
  },
  {
   "cell_type": "code",
   "execution_count": 33,
   "id": "1dd0b526",
   "metadata": {},
   "outputs": [
    {
     "name": "stdout",
     "output_type": "stream",
     "text": [
      "Predicted Labels: ['Stunting' 'Stunting' 'Overweight' 'Stunting' 'Stunting' 'Stunting'\n",
      " 'Stunting' 'Stunting' 'Overweight' 'Stunting' 'Stunting' 'Stunting'\n",
      " 'Stunting' 'Stunting' 'Stunting' 'Stunting' 'Stunting' 'Stunting'\n",
      " 'Stunting' 'Stunting' 'Stunting' 'Stunting' 'Stunting' 'Stunting'\n",
      " 'Underweight' 'Stunting' 'Stunting' 'Stunting' 'Stunting' 'Stunting'\n",
      " 'Stunting' 'Stunting' 'Stunting' 'Stunting' 'Stunting' 'Stunting'\n",
      " 'Stunting' 'Stunting' 'Stunting' 'Stunting' 'Overweight' 'Overweight'\n",
      " 'Stunting' 'Stunting' 'Stunting' 'Underweight' 'Stunting' 'Stunting'\n",
      " 'Stunting' 'Stunting' 'Stunting' 'Stunting' 'Stunting' 'Stunting'\n",
      " 'Stunting' 'Stunting' 'Stunting' 'Stunting' 'Stunting' 'Overweight'\n",
      " 'Stunting' 'Stunting' 'Stunting' 'Stunting' 'Stunting' 'Stunting'\n",
      " 'Stunting' 'Stunting' 'Stunting' 'Stunting' 'Stunting' 'Stunting'\n",
      " 'Stunting' 'Stunting' 'Stunting' 'Stunting' 'Stunting' 'Stunting'\n",
      " 'Stunting' 'Stunting' 'Stunting' 'Stunting' 'Stunting' 'Stunting'\n",
      " 'Stunting' 'Stunting' 'Stunting' 'Stunting' 'Stunting' 'Stunting'\n",
      " 'Stunting' 'Stunting' 'Stunting' 'Stunting' 'Stunting' 'Stunting'\n",
      " 'Stunting' 'Stunting' 'Stunting' 'Overweight' 'Stunting' 'Stunting'\n",
      " 'Stunting' 'Stunting' 'Overweight' 'Stunting' 'Stunting' 'Stunting'\n",
      " 'Stunting' 'Stunting' 'Stunting' 'Stunting' 'Stunting' 'Stunting'\n",
      " 'Stunting' 'Stunting' 'Stunting' 'Stunting' 'Stunting' 'Stunting'\n",
      " 'Stunting' 'Stunting' 'Stunting' 'Stunting' 'Stunting' 'Overweight']\n",
      "Actual Labels   : ['Overweight', 'Stunting', 'Overweight', 'Stunting', 'Stunting', 'Stunting', 'Stunting', 'Stunting', 'Stunting', 'Stunting', 'Stunting', 'Stunting', 'Stunting', 'Stunting', 'Stunting', 'Stunting', 'Stunting', 'Stunting', 'Stunting', 'Stunting', 'Stunting', 'Stunting', 'Stunting', 'Stunting', 'Stunting', 'Stunting', 'Stunting', 'Stunting', 'Overweight', 'Stunting', 'Underweight', 'Stunting', 'Stunting', 'Stunting', 'Stunting', 'Stunting', 'Stunting', 'Underweight', 'Stunting', 'Stunting', 'Stunting', 'Stunting', 'Stunting', 'Stunting', 'Stunting', 'Stunting', 'Stunting', 'Stunting', 'Stunting', 'Stunting', 'Stunting', 'Stunting', 'Overweight', 'Stunting', 'Stunting', 'Stunting', 'Overweight', 'Stunting', 'Stunting', 'Stunting', 'Underweight', 'Stunting', 'Stunting', 'Stunting', 'Stunting', 'Stunting', 'Stunting', 'Stunting', 'Stunting', 'Stunting', 'Stunting', 'Stunting', 'Stunting', 'Stunting', 'Stunting', 'Stunting', 'Wasting', 'Stunting', 'Stunting', 'Stunting', 'Stunting', 'Stunting', 'Stunting', 'Overweight', 'Stunting', 'Stunting', 'Stunting', 'Overweight', 'Stunting', 'Stunting', 'Stunting', 'Underweight', 'Stunting', 'Stunting', 'Stunting', 'Stunting', 'Stunting', 'Stunting', 'Stunting', 'Underweight', 'Stunting', 'Stunting', 'Stunting', 'Stunting', 'Overweight', 'Stunting', 'Stunting', 'Stunting', 'Stunting', 'Stunting', 'Stunting', 'Stunting', 'Stunting', 'Overweight', 'Stunting', 'Stunting', 'Overweight', 'Stunting', 'Stunting', 'Stunting', 'Stunting', 'Stunting', 'Stunting', 'Stunting', 'Stunting', 'Stunting']\n",
      "Validation Set:\n",
      "[[  2   8   0   0]\n",
      " [  5 103   2   0]\n",
      " [  1   4   0   0]\n",
      " [  0   1   0   0]]\n",
      "              precision    recall  f1-score   support\n",
      "\n",
      "  Overweight       0.25      0.20      0.22        10\n",
      "    Stunting       0.89      0.94      0.91       110\n",
      " Underweight       0.00      0.00      0.00         5\n",
      "     Wasting       0.00      0.00      0.00         1\n",
      "\n",
      "    accuracy                           0.83       126\n",
      "   macro avg       0.28      0.28      0.28       126\n",
      "weighted avg       0.80      0.83      0.81       126\n",
      "\n",
      "Accuracy: 83.33%\n"
     ]
    },
    {
     "name": "stderr",
     "output_type": "stream",
     "text": [
      "/Users/kushalsharma/anaconda3/lib/python3.10/site-packages/sklearn/metrics/_classification.py:1327: UndefinedMetricWarning: Precision and F-score are ill-defined and being set to 0.0 in labels with no predicted samples. Use `zero_division` parameter to control this behavior.\n",
      "  _warn_prf(average, modifier, msg_start, len(result))\n",
      "/Users/kushalsharma/anaconda3/lib/python3.10/site-packages/sklearn/metrics/_classification.py:1327: UndefinedMetricWarning: Precision and F-score are ill-defined and being set to 0.0 in labels with no predicted samples. Use `zero_division` parameter to control this behavior.\n",
      "  _warn_prf(average, modifier, msg_start, len(result))\n",
      "/Users/kushalsharma/anaconda3/lib/python3.10/site-packages/sklearn/metrics/_classification.py:1327: UndefinedMetricWarning: Precision and F-score are ill-defined and being set to 0.0 in labels with no predicted samples. Use `zero_division` parameter to control this behavior.\n",
      "  _warn_prf(average, modifier, msg_start, len(result))\n"
     ]
    }
   ],
   "source": [
    "from sklearn.ensemble import RandomForestClassifier\n",
    "from sklearn.metrics import confusion_matrix, classification_report, accuracy_score\n",
    "\n",
    "# Train the model on the training set\n",
    "model = RandomForestClassifier(n_estimators=300)\n",
    "model.fit(X_train, y_train)\n",
    "\n",
    "# Predictions on the validation set\n",
    "y_val_pred = model.predict(X_val)\n",
    "\n",
    "# Print the predicted labels and compare with the actual labels\n",
    "print(\"Predicted Labels:\", y_val_pred)\n",
    "print(\"Actual Labels   :\", y_val.tolist())  # Convert y_val to a list for easy comparison\n",
    "\n",
    "# Evaluate the model on the validation set\n",
    "print(\"Validation Set:\")\n",
    "print(confusion_matrix(y_val, y_val_pred))\n",
    "print(classification_report(y_val, y_val_pred))\n",
    "print(\"Accuracy: {:.2f}%\".format(accuracy_score(y_val, y_val_pred) * 100))\n"
   ]
  },
  {
   "cell_type": "code",
   "execution_count": 34,
   "id": "6cb776a5",
   "metadata": {},
   "outputs": [
    {
     "name": "stdout",
     "output_type": "stream",
     "text": [
      "Predicted Labels (Test Set): ['Stunting' 'Stunting' 'Stunting' 'Stunting' 'Stunting' 'Stunting'\n",
      " 'Stunting' 'Stunting' 'Stunting' 'Stunting' 'Stunting' 'Stunting'\n",
      " 'Stunting' 'Stunting' 'Stunting' 'Stunting' 'Stunting' 'Stunting'\n",
      " 'Overweight' 'Stunting' 'Stunting' 'Stunting' 'Stunting' 'Stunting'\n",
      " 'Stunting' 'Stunting' 'Stunting' 'Stunting' 'Stunting' 'Stunting'\n",
      " 'Stunting' 'Stunting' 'Stunting' 'Overweight' 'Stunting' 'Stunting'\n",
      " 'Stunting' 'Stunting' 'Stunting' 'Stunting' 'Stunting' 'Underweight'\n",
      " 'Stunting' 'Stunting' 'Stunting' 'Stunting' 'Stunting' 'Stunting'\n",
      " 'Stunting' 'Stunting' 'Stunting' 'Stunting' 'Stunting' 'Stunting'\n",
      " 'Stunting' 'Overweight' 'Stunting' 'Stunting' 'Stunting' 'Stunting'\n",
      " 'Stunting' 'Stunting' 'Stunting' 'Stunting' 'Stunting' 'Stunting'\n",
      " 'Stunting' 'Stunting' 'Stunting' 'Stunting' 'Stunting' 'Stunting'\n",
      " 'Stunting' 'Stunting' 'Stunting' 'Stunting' 'Stunting' 'Stunting'\n",
      " 'Stunting' 'Stunting' 'Stunting' 'Overweight' 'Stunting' 'Stunting'\n",
      " 'Stunting' 'Stunting' 'Stunting' 'Stunting' 'Stunting' 'Overweight'\n",
      " 'Stunting' 'Stunting' 'Underweight' 'Underweight' 'Stunting' 'Stunting'\n",
      " 'Stunting' 'Stunting' 'Stunting' 'Stunting' 'Stunting' 'Stunting'\n",
      " 'Stunting' 'Stunting' 'Stunting' 'Stunting' 'Stunting' 'Overweight'\n",
      " 'Stunting' 'Stunting' 'Stunting' 'Stunting' 'Stunting' 'Stunting'\n",
      " 'Stunting' 'Stunting' 'Stunting' 'Stunting' 'Stunting' 'Stunting'\n",
      " 'Underweight' 'Stunting' 'Stunting' 'Stunting' 'Stunting' 'Stunting']\n",
      "Actual Labels (Test Set)   : ['Stunting', 'Stunting', 'Stunting', 'Stunting', 'Stunting', 'Stunting', 'Overweight', 'Stunting', 'Stunting', 'Stunting', 'Overweight', 'Stunting', 'Overweight', 'Stunting', 'Stunting', 'Stunting', 'Stunting', 'Overweight', 'Stunting', 'Stunting', 'Stunting', 'Stunting', 'Stunting', 'Stunting', 'Stunting', 'Stunting', 'Stunting', 'Stunting', 'Stunting', 'Overweight', 'Stunting', 'Stunting', 'Stunting', 'Underweight', 'Stunting', 'Stunting', 'Stunting', 'Stunting', 'Stunting', 'Stunting', 'Stunting', 'Stunting', 'Stunting', 'Overweight', 'Stunting', 'Stunting', 'Stunting', 'Underweight', 'Stunting', 'Overweight', 'Stunting', 'Stunting', 'Stunting', 'Stunting', 'Stunting', 'Stunting', 'Stunting', 'Stunting', 'Overweight', 'Overweight', 'Stunting', 'Stunting', 'Stunting', 'Overweight', 'Stunting', 'Stunting', 'Underweight', 'Stunting', 'Overweight', 'Overweight', 'Stunting', 'Underweight', 'Stunting', 'Underweight', 'Stunting', 'Stunting', 'Overweight', 'Stunting', 'Stunting', 'Stunting', 'Stunting', 'Stunting', 'Overweight', 'Stunting', 'Stunting', 'Stunting', 'Stunting', 'Overweight', 'Stunting', 'Stunting', 'Stunting', 'Stunting', 'Stunting', 'Stunting', 'Stunting', 'Stunting', 'Overweight', 'Stunting', 'Stunting', 'Overweight', 'Stunting', 'Underweight', 'Stunting', 'Stunting', 'Stunting', 'Stunting', 'Stunting', 'Stunting', 'Stunting', 'Overweight', 'Stunting', 'Stunting', 'Stunting', 'Stunting', 'Stunting', 'Underweight', 'Stunting', 'Stunting', 'Stunting', 'Stunting', 'Stunting', 'Stunting', 'Stunting', 'Stunting', 'Stunting', 'Stunting']\n",
      "\n",
      "Test Set:\n",
      "[[ 0 18  0]\n",
      " [ 5 92  4]\n",
      " [ 1  6  0]]\n",
      "              precision    recall  f1-score   support\n",
      "\n",
      "  Overweight       0.00      0.00      0.00        18\n",
      "    Stunting       0.79      0.91      0.85       101\n",
      " Underweight       0.00      0.00      0.00         7\n",
      "\n",
      "    accuracy                           0.73       126\n",
      "   macro avg       0.26      0.30      0.28       126\n",
      "weighted avg       0.64      0.73      0.68       126\n",
      "\n",
      "Accuracy: 73.02%\n"
     ]
    }
   ],
   "source": [
    "from sklearn.ensemble import RandomForestClassifier\n",
    "from sklearn.metrics import confusion_matrix, classification_report, accuracy_score\n",
    "\n",
    "# Train the model on the training set\n",
    "model = RandomForestClassifier(n_estimators=300)\n",
    "model.fit(X_train, y_train)\n",
    "\n",
    "# Predictions on the test set\n",
    "y_test_pred = model.predict(X_test)\n",
    "\n",
    "# Print the predicted labels and compare with the actual labels\n",
    "print(\"Predicted Labels (Test Set):\", y_test_pred)\n",
    "print(\"Actual Labels (Test Set)   :\", y_test.tolist())  # Convert y_test to a list for easy comparison\n",
    "\n",
    "# Evaluate the model on the test set\n",
    "print(\"\\nTest Set:\")\n",
    "print(confusion_matrix(y_test, y_test_pred))\n",
    "print(classification_report(y_test, y_test_pred))\n",
    "print(\"Accuracy: {:.2f}%\".format(accuracy_score(y_test, y_test_pred) * 100))\n",
    "\n",
    "\n"
   ]
  },
  {
   "cell_type": "code",
   "execution_count": 35,
   "id": "9f5e114a",
   "metadata": {},
   "outputs": [
    {
     "name": "stdout",
     "output_type": "stream",
     "text": [
      "Validation Set:\n",
      "[[  0  10   0   0]\n",
      " [  0 110   0   0]\n",
      " [  0   5   0   0]\n",
      " [  0   1   0   0]]\n",
      "              precision    recall  f1-score   support\n",
      "\n",
      "  Overweight       0.00      0.00      0.00        10\n",
      "    Stunting       0.87      1.00      0.93       110\n",
      " Underweight       0.00      0.00      0.00         5\n",
      "     Wasting       0.00      0.00      0.00         1\n",
      "\n",
      "    accuracy                           0.87       126\n",
      "   macro avg       0.22      0.25      0.23       126\n",
      "weighted avg       0.76      0.87      0.81       126\n",
      "\n",
      "Accuracy: 87.30%\n"
     ]
    },
    {
     "name": "stderr",
     "output_type": "stream",
     "text": [
      "/Users/kushalsharma/anaconda3/lib/python3.10/site-packages/sklearn/metrics/_classification.py:1327: UndefinedMetricWarning: Precision and F-score are ill-defined and being set to 0.0 in labels with no predicted samples. Use `zero_division` parameter to control this behavior.\n",
      "  _warn_prf(average, modifier, msg_start, len(result))\n",
      "/Users/kushalsharma/anaconda3/lib/python3.10/site-packages/sklearn/metrics/_classification.py:1327: UndefinedMetricWarning: Precision and F-score are ill-defined and being set to 0.0 in labels with no predicted samples. Use `zero_division` parameter to control this behavior.\n",
      "  _warn_prf(average, modifier, msg_start, len(result))\n",
      "/Users/kushalsharma/anaconda3/lib/python3.10/site-packages/sklearn/metrics/_classification.py:1327: UndefinedMetricWarning: Precision and F-score are ill-defined and being set to 0.0 in labels with no predicted samples. Use `zero_division` parameter to control this behavior.\n",
      "  _warn_prf(average, modifier, msg_start, len(result))\n"
     ]
    },
    {
     "name": "stdout",
     "output_type": "stream",
     "text": [
      "\n",
      "Test Set:\n",
      "[[  0  18   0]\n",
      " [  0 101   0]\n",
      " [  0   7   0]]\n",
      "              precision    recall  f1-score   support\n",
      "\n",
      "  Overweight       0.00      0.00      0.00        18\n",
      "    Stunting       0.80      1.00      0.89       101\n",
      " Underweight       0.00      0.00      0.00         7\n",
      "\n",
      "    accuracy                           0.80       126\n",
      "   macro avg       0.27      0.33      0.30       126\n",
      "weighted avg       0.64      0.80      0.71       126\n",
      "\n",
      "Accuracy: 80.16%\n"
     ]
    },
    {
     "name": "stderr",
     "output_type": "stream",
     "text": [
      "/Users/kushalsharma/anaconda3/lib/python3.10/site-packages/sklearn/metrics/_classification.py:1327: UndefinedMetricWarning: Precision and F-score are ill-defined and being set to 0.0 in labels with no predicted samples. Use `zero_division` parameter to control this behavior.\n",
      "  _warn_prf(average, modifier, msg_start, len(result))\n",
      "/Users/kushalsharma/anaconda3/lib/python3.10/site-packages/sklearn/metrics/_classification.py:1327: UndefinedMetricWarning: Precision and F-score are ill-defined and being set to 0.0 in labels with no predicted samples. Use `zero_division` parameter to control this behavior.\n",
      "  _warn_prf(average, modifier, msg_start, len(result))\n",
      "/Users/kushalsharma/anaconda3/lib/python3.10/site-packages/sklearn/metrics/_classification.py:1327: UndefinedMetricWarning: Precision and F-score are ill-defined and being set to 0.0 in labels with no predicted samples. Use `zero_division` parameter to control this behavior.\n",
      "  _warn_prf(average, modifier, msg_start, len(result))\n"
     ]
    }
   ],
   "source": [
    "from sklearn.svm import SVC\n",
    "from sklearn.metrics import confusion_matrix, classification_report, accuracy_score\n",
    "from sklearn.model_selection import train_test_split\n",
    "\n",
    "# Assuming X contains your features and y contains your labels\n",
    "X_train, X_temp, y_train, y_temp = train_test_split(X, y, test_size=0.3, random_state=42)\n",
    "\n",
    "# Split the 'temp' sets into validation and test sets\n",
    "X_val, X_test, y_val, y_test = train_test_split(X_temp, y_temp, test_size=0.5, random_state=42)\n",
    "\n",
    "# Create an SVM model\n",
    "svm_model = SVC(kernel='linear', random_state=42)  # You can adjust the kernel and other parameters based on your data\n",
    "\n",
    "# Train the SVM model on the training set\n",
    "svm_model.fit(X_train, y_train)\n",
    "\n",
    "# Predictions on the validation set\n",
    "y_val_pred = svm_model.predict(X_val)\n",
    "\n",
    "# Evaluate the SVM model on the validation set\n",
    "print(\"Validation Set:\")\n",
    "print(confusion_matrix(y_val, y_val_pred))\n",
    "print(classification_report(y_val, y_val_pred))\n",
    "print(\"Accuracy: {:.2f}%\".format(accuracy_score(y_val, y_val_pred) * 100))\n",
    "\n",
    "# Predictions on the test set\n",
    "y_test_pred = svm_model.predict(X_test)\n",
    "\n",
    "# Evaluate the SVM model on the test set\n",
    "print(\"\\nTest Set:\")\n",
    "print(confusion_matrix(y_test, y_test_pred))\n",
    "print(classification_report(y_test, y_test_pred))\n",
    "print(\"Accuracy: {:.2f}%\".format(accuracy_score(y_test, y_test_pred) * 100))\n"
   ]
  },
  {
   "cell_type": "code",
   "execution_count": 36,
   "id": "34de7550",
   "metadata": {},
   "outputs": [],
   "source": [
    "# Below, I used neural networks"
   ]
  },
  {
   "cell_type": "code",
   "execution_count": 37,
   "id": "f60489ab",
   "metadata": {},
   "outputs": [
    {
     "name": "stdout",
     "output_type": "stream",
     "text": [
      "Epoch 1/10\n",
      "19/19 [==============================] - 0s 4ms/step - loss: 0.5379 - accuracy: 0.7624 - val_loss: 0.1645 - val_accuracy: 0.8730\n",
      "Epoch 2/10\n",
      "19/19 [==============================] - 0s 1ms/step - loss: 0.3645 - accuracy: 0.8291 - val_loss: 0.1124 - val_accuracy: 0.8730\n",
      "Epoch 3/10\n",
      "19/19 [==============================] - 0s 1ms/step - loss: 0.2066 - accuracy: 0.8291 - val_loss: 0.1313 - val_accuracy: 0.8730\n",
      "Epoch 4/10\n",
      "19/19 [==============================] - 0s 1ms/step - loss: 0.2051 - accuracy: 0.8291 - val_loss: 0.1029 - val_accuracy: 0.8730\n",
      "Epoch 5/10\n",
      "19/19 [==============================] - 0s 1ms/step - loss: 0.2043 - accuracy: 0.8291 - val_loss: 0.1035 - val_accuracy: 0.8730\n",
      "Epoch 6/10\n",
      "19/19 [==============================] - 0s 1ms/step - loss: 0.1800 - accuracy: 0.8291 - val_loss: 0.1343 - val_accuracy: 0.8730\n",
      "Epoch 7/10\n",
      "19/19 [==============================] - 0s 1ms/step - loss: 0.2013 - accuracy: 0.8291 - val_loss: 0.1884 - val_accuracy: 0.8730\n",
      "Epoch 8/10\n",
      "19/19 [==============================] - 0s 1ms/step - loss: 0.1969 - accuracy: 0.8291 - val_loss: 0.1498 - val_accuracy: 0.8730\n",
      "Epoch 9/10\n",
      "19/19 [==============================] - 0s 1ms/step - loss: 0.1592 - accuracy: 0.8291 - val_loss: 0.1065 - val_accuracy: 0.8730\n",
      "Epoch 10/10\n",
      "19/19 [==============================] - 0s 977us/step - loss: 0.1590 - accuracy: 0.8291 - val_loss: 0.1020 - val_accuracy: 0.8730\n",
      "4/4 [==============================] - 0s 516us/step\n",
      "\n",
      "Validation Set:\n",
      "[[  0  10   0   0]\n",
      " [  0 110   0   0]\n",
      " [  0   5   0   0]\n",
      " [  0   1   0   0]]\n",
      "              precision    recall  f1-score   support\n",
      "\n",
      "           0       0.00      0.00      0.00        10\n",
      "           1       0.87      1.00      0.93       110\n",
      "           2       0.00      0.00      0.00         5\n",
      "           3       0.00      0.00      0.00         1\n",
      "\n",
      "    accuracy                           0.87       126\n",
      "   macro avg       0.22      0.25      0.23       126\n",
      "weighted avg       0.76      0.87      0.81       126\n",
      "\n",
      "Accuracy: 87.30%\n",
      "4/4 [==============================] - 0s 503us/step\n",
      "\n",
      "Test Set:\n",
      "[[  0  18   0]\n",
      " [  0 101   0]\n",
      " [  0   7   0]]\n",
      "              precision    recall  f1-score   support\n",
      "\n",
      "           0       0.00      0.00      0.00        18\n",
      "           1       0.80      1.00      0.89       101\n",
      "           2       0.00      0.00      0.00         7\n",
      "\n",
      "    accuracy                           0.80       126\n",
      "   macro avg       0.27      0.33      0.30       126\n",
      "weighted avg       0.64      0.80      0.71       126\n",
      "\n",
      "Accuracy: 80.16%\n"
     ]
    },
    {
     "name": "stderr",
     "output_type": "stream",
     "text": [
      "/Users/kushalsharma/anaconda3/lib/python3.10/site-packages/sklearn/metrics/_classification.py:1327: UndefinedMetricWarning: Precision and F-score are ill-defined and being set to 0.0 in labels with no predicted samples. Use `zero_division` parameter to control this behavior.\n",
      "  _warn_prf(average, modifier, msg_start, len(result))\n",
      "/Users/kushalsharma/anaconda3/lib/python3.10/site-packages/sklearn/metrics/_classification.py:1327: UndefinedMetricWarning: Precision and F-score are ill-defined and being set to 0.0 in labels with no predicted samples. Use `zero_division` parameter to control this behavior.\n",
      "  _warn_prf(average, modifier, msg_start, len(result))\n",
      "/Users/kushalsharma/anaconda3/lib/python3.10/site-packages/sklearn/metrics/_classification.py:1327: UndefinedMetricWarning: Precision and F-score are ill-defined and being set to 0.0 in labels with no predicted samples. Use `zero_division` parameter to control this behavior.\n",
      "  _warn_prf(average, modifier, msg_start, len(result))\n",
      "/Users/kushalsharma/anaconda3/lib/python3.10/site-packages/sklearn/metrics/_classification.py:1327: UndefinedMetricWarning: Precision and F-score are ill-defined and being set to 0.0 in labels with no predicted samples. Use `zero_division` parameter to control this behavior.\n",
      "  _warn_prf(average, modifier, msg_start, len(result))\n",
      "/Users/kushalsharma/anaconda3/lib/python3.10/site-packages/sklearn/metrics/_classification.py:1327: UndefinedMetricWarning: Precision and F-score are ill-defined and being set to 0.0 in labels with no predicted samples. Use `zero_division` parameter to control this behavior.\n",
      "  _warn_prf(average, modifier, msg_start, len(result))\n",
      "/Users/kushalsharma/anaconda3/lib/python3.10/site-packages/sklearn/metrics/_classification.py:1327: UndefinedMetricWarning: Precision and F-score are ill-defined and being set to 0.0 in labels with no predicted samples. Use `zero_division` parameter to control this behavior.\n",
      "  _warn_prf(average, modifier, msg_start, len(result))\n"
     ]
    }
   ],
   "source": [
    "from sklearn.preprocessing import LabelEncoder\n",
    "from sklearn.metrics import confusion_matrix, classification_report, accuracy_score\n",
    "\n",
    "# Load your dataset\n",
    "data = pd.read_csv('Malnutrition data.csv')\n",
    "\n",
    "# Encode categorical variable 'Sex' using one-hot encoding\n",
    "data = pd.get_dummies(data, columns=['Sex'], drop_first=True)\n",
    "\n",
    "# Convert 'Status' column to numerical values using label encoding\n",
    "label_encoder = LabelEncoder()\n",
    "data['Status'] = label_encoder.fit_transform(data['Status'])\n",
    "\n",
    "# Split the dataset into features (X) and target variable (y)\n",
    "X = data.drop('Status', axis=1)\n",
    "y = data['Status']\n",
    "\n",
    "# Split the data into training, validation, and test sets\n",
    "X_train, X_temp, y_train, y_temp = train_test_split(X, y, test_size=0.3, random_state=42)\n",
    "X_val, X_test, y_val, y_test = train_test_split(X_temp, y_temp, test_size=0.5, random_state=42)\n",
    "\n",
    "# Build a simple neural network\n",
    "model = tf.keras.Sequential([\n",
    "    tf.keras.layers.Dense(64, activation='relu', input_shape=(X_train.shape[1],)),\n",
    "    tf.keras.layers.Dense(32, activation='relu'),\n",
    "    tf.keras.layers.Dense(1, activation='sigmoid')  # Binary classification output\n",
    "])\n",
    "\n",
    "# Compile the model\n",
    "model.compile(optimizer='adam', loss='binary_crossentropy', metrics=['accuracy'])\n",
    "\n",
    "# Train the neural network on the training set\n",
    "history = model.fit(X_train, y_train, epochs=10, batch_size=32, validation_data=(X_val, y_val))\n",
    "\n",
    "# Predictions on the validation set\n",
    "y_val_pred_prob = model.predict(X_val)\n",
    "y_val_pred = (y_val_pred_prob > 0.5).astype(int)\n",
    "\n",
    "# Evaluate the model on the validation set\n",
    "print(\"\\nValidation Set:\")\n",
    "print(confusion_matrix(y_val, y_val_pred))\n",
    "print(classification_report(y_val, y_val_pred))\n",
    "print(\"Accuracy: {:.2f}%\".format(accuracy_score(y_val, y_val_pred) * 100))\n",
    "\n",
    "# Predictions on the test set\n",
    "y_test_pred_prob = model.predict(X_test)\n",
    "y_test_pred = (y_test_pred_prob > 0.5).astype(int)\n",
    "\n",
    "# Evaluate the model on the test set\n",
    "print(\"\\nTest Set:\")\n",
    "print(confusion_matrix(y_test, y_test_pred))\n",
    "print(classification_report(y_test, y_test_pred))\n",
    "print(\"Accuracy: {:.2f}%\".format(accuracy_score(y_test, y_test_pred) * 100))\n"
   ]
  },
  {
   "cell_type": "code",
   "execution_count": 38,
   "id": "d8170ce9",
   "metadata": {},
   "outputs": [
    {
     "data": {
      "image/png": "[encoded data removed]",
      "text/plain": [
       "<Figure size 640x480 with 1 Axes>"
      ]
     },
     "metadata": {},
     "output_type": "display_data"
    },
    {
     "data": {
      "image/png": "[encoded data removed]",
      "text/plain": [
       "<Figure size 640x480 with 1 Axes>"
      ]
     },
     "metadata": {},
     "output_type": "display_data"
    }
   ],
   "source": [
    "import matplotlib.pyplot as plt\n",
    "\n",
    "# Plot training & validation accuracy values\n",
    "plt.plot(history.history['accuracy'])\n",
    "plt.plot(history.history['val_accuracy'])\n",
    "plt.title('Model accuracy')\n",
    "plt.xlabel('Epoch')\n",
    "plt.ylabel('Accuracy')\n",
    "plt.legend(['Train', 'Validation'], loc='upper left')\n",
    "plt.show()\n",
    "\n",
    "# Plot training & validation loss values\n",
    "plt.plot(history.history['loss'])\n",
    "plt.plot(history.history['val_loss'])\n",
    "plt.title('Model loss')\n",
    "plt.xlabel('Epoch')\n",
    "plt.ylabel('Loss')\n",
    "plt.legend(['Train', 'Validation'], loc='upper left')\n",
    "plt.show()\n"
   ]
  },
  {
   "cell_type": "code",
   "execution_count": 39,
   "id": "5f5e86ec",
   "metadata": {},
   "outputs": [],
   "source": [
    "# In the code below, I encoded the non-numeric label to numeric and used the SVM algorithm "
   ]
  },
  {
   "cell_type": "code",
   "execution_count": 40,
   "id": "2919b85d",
   "metadata": {},
   "outputs": [
    {
     "name": "stdout",
     "output_type": "stream",
     "text": [
      "Validation Set:\n",
      "[[  6   4   0   0]\n",
      " [  1 109   0   0]\n",
      " [  0   5   0   0]\n",
      " [  1   0   0   0]]\n",
      "              precision    recall  f1-score   support\n",
      "\n",
      "           0       0.75      0.60      0.67        10\n",
      "           1       0.92      0.99      0.96       110\n",
      "           2       0.00      0.00      0.00         5\n",
      "           3       0.00      0.00      0.00         1\n",
      "\n",
      "    accuracy                           0.91       126\n",
      "   macro avg       0.42      0.40      0.41       126\n",
      "weighted avg       0.87      0.91      0.89       126\n",
      "\n",
      "Accuracy: 91.27%\n",
      "\n",
      "Test Set:\n",
      "[[10  8  0]\n",
      " [ 5 96  0]\n",
      " [ 0  7  0]]\n",
      "              precision    recall  f1-score   support\n",
      "\n",
      "           0       0.67      0.56      0.61        18\n",
      "           1       0.86      0.95      0.91       101\n",
      "           2       0.00      0.00      0.00         7\n",
      "\n",
      "    accuracy                           0.84       126\n",
      "   macro avg       0.51      0.50      0.50       126\n",
      "weighted avg       0.79      0.84      0.81       126\n",
      "\n",
      "Accuracy: 84.13%\n"
     ]
    },
    {
     "name": "stderr",
     "output_type": "stream",
     "text": [
      "/Users/kushalsharma/anaconda3/lib/python3.10/site-packages/sklearn/metrics/_classification.py:1327: UndefinedMetricWarning: Precision and F-score are ill-defined and being set to 0.0 in labels with no predicted samples. Use `zero_division` parameter to control this behavior.\n",
      "  _warn_prf(average, modifier, msg_start, len(result))\n",
      "/Users/kushalsharma/anaconda3/lib/python3.10/site-packages/sklearn/metrics/_classification.py:1327: UndefinedMetricWarning: Precision and F-score are ill-defined and being set to 0.0 in labels with no predicted samples. Use `zero_division` parameter to control this behavior.\n",
      "  _warn_prf(average, modifier, msg_start, len(result))\n",
      "/Users/kushalsharma/anaconda3/lib/python3.10/site-packages/sklearn/metrics/_classification.py:1327: UndefinedMetricWarning: Precision and F-score are ill-defined and being set to 0.0 in labels with no predicted samples. Use `zero_division` parameter to control this behavior.\n",
      "  _warn_prf(average, modifier, msg_start, len(result))\n",
      "/Users/kushalsharma/anaconda3/lib/python3.10/site-packages/sklearn/metrics/_classification.py:1327: UndefinedMetricWarning: Precision and F-score are ill-defined and being set to 0.0 in labels with no predicted samples. Use `zero_division` parameter to control this behavior.\n",
      "  _warn_prf(average, modifier, msg_start, len(result))\n",
      "/Users/kushalsharma/anaconda3/lib/python3.10/site-packages/sklearn/metrics/_classification.py:1327: UndefinedMetricWarning: Precision and F-score are ill-defined and being set to 0.0 in labels with no predicted samples. Use `zero_division` parameter to control this behavior.\n",
      "  _warn_prf(average, modifier, msg_start, len(result))\n",
      "/Users/kushalsharma/anaconda3/lib/python3.10/site-packages/sklearn/metrics/_classification.py:1327: UndefinedMetricWarning: Precision and F-score are ill-defined and being set to 0.0 in labels with no predicted samples. Use `zero_division` parameter to control this behavior.\n",
      "  _warn_prf(average, modifier, msg_start, len(result))\n"
     ]
    }
   ],
   "source": [
    "from sklearn.svm import SVC\n",
    "from sklearn.metrics import confusion_matrix, classification_report, accuracy_score\n",
    "from sklearn.model_selection import train_test_split\n",
    "from sklearn.preprocessing import LabelEncoder\n",
    "\n",
    "# Assuming X contains your features and y contains your labels\n",
    "X_train, X_temp, y_train, y_temp = train_test_split(X, y, test_size=0.3, random_state=42)\n",
    "\n",
    "# Split the 'temp' sets into validation and test sets\n",
    "X_val, X_test, y_val, y_test = train_test_split(X_temp, y_temp, test_size=0.5, random_state=42)\n",
    "\n",
    "# Encode non-numeric labels in y_train using LabelEncoder\n",
    "label_encoder = LabelEncoder()\n",
    "y_train_encoded = label_encoder.fit_transform(y_train)\n",
    "\n",
    "# Create an SVM model\n",
    "svm_model = SVC(kernel='linear', random_state=42)\n",
    "\n",
    "# Train the SVM model on the training set\n",
    "svm_model.fit(X_train, y_train_encoded)\n",
    "\n",
    "# Encode non-numeric labels in y_val and y_test\n",
    "y_val_encoded = label_encoder.transform(y_val)\n",
    "y_test_encoded = label_encoder.transform(y_test)\n",
    "\n",
    "# Predictions on the validation set\n",
    "y_val_pred = svm_model.predict(X_val)\n",
    "\n",
    "# Evaluate the SVM model on the validation set\n",
    "print(\"Validation Set:\")\n",
    "print(confusion_matrix(y_val_encoded, y_val_pred))\n",
    "print(classification_report(y_val_encoded, y_val_pred))\n",
    "print(\"Accuracy: {:.2f}%\".format(accuracy_score(y_val_encoded, y_val_pred) * 100))\n",
    "\n",
    "# Predictions on the test set\n",
    "y_test_pred = svm_model.predict(X_test)\n",
    "\n",
    "# Evaluate the SVM model on the test set\n",
    "print(\"\\nTest Set:\")\n",
    "print(confusion_matrix(y_test_encoded, y_test_pred))\n",
    "print(classification_report(y_test_encoded, y_test_pred))\n",
    "print(\"Accuracy: {:.2f}%\".format(accuracy_score(y_test_encoded, y_test_pred) * 100))\n",
    "\n"
   ]
  },
  {
   "cell_type": "code",
   "execution_count": 41,
   "id": "37b4d70b",
   "metadata": {},
   "outputs": [],
   "source": [
    "# Below, I encoded the non numeric labels to numeric and used Random Forest Classifier"
   ]
  },
  {
   "cell_type": "code",
   "execution_count": 42,
   "id": "9967e738",
   "metadata": {},
   "outputs": [
    {
     "name": "stdout",
     "output_type": "stream",
     "text": [
      "Test Set:\n",
      "Predicted Labels (Test Set): [1 1 1 1 1 1 1 1 1 1 1 1 1 1 0 1 1 1 0 1 1 1 1 1 1 1 1 1 1 1 0 1 1 1 1 2 1\n",
      " 1 1 1 1 2 1 1 1 1 1 1 1 1 1 1 1 0 1 1 1 1 0 0 1 1 1 1 1 1 1 1 1 0 1 0 1 1\n",
      " 0 1 0 1 1 1 1 1 1 1 1 1 1 0 1 0 1 1 2 1 1 1 1 1 1 1 1 1 1 1 1 1 1 1 1 1 1\n",
      " 1 1 1 1 1 1 0 1 1 2 1 1 1 1 1]\n",
      "Actual Labels (Test Set)   : [1, 1, 1, 1, 1, 1, 0, 1, 1, 1, 0, 1, 0, 1, 1, 1, 1, 0, 1, 1, 1, 1, 1, 1, 1, 1, 1, 1, 1, 0, 1, 1, 1, 2, 1, 1, 1, 1, 1, 1, 1, 1, 1, 0, 1, 1, 1, 2, 1, 0, 1, 1, 1, 1, 1, 1, 1, 1, 0, 0, 1, 1, 1, 0, 1, 1, 2, 1, 0, 0, 1, 2, 1, 2, 1, 1, 0, 1, 1, 1, 1, 1, 0, 1, 1, 1, 1, 0, 1, 1, 1, 1, 1, 1, 1, 1, 0, 1, 1, 0, 1, 2, 1, 1, 1, 1, 1, 1, 1, 0, 1, 1, 1, 1, 1, 2, 1, 1, 1, 1, 1, 1, 1, 1, 1, 1]\n",
      "\n",
      "Validation Set:\n",
      "Predicted Labels (Validation Set): [1 1 0 1 1 1 1 1 0 1 1 1 1 1 1 1 1 1 1 1 1 1 1 1 1 1 1 1 1 1 1 1 1 1 1 1 1\n",
      " 1 1 1 0 1 1 1 0 1 1 1 1 1 1 1 0 1 1 1 0 1 1 1 1 1 1 1 1 1 1 1 1 1 1 0 1 1\n",
      " 1 1 1 1 1 1 1 1 1 2 1 1 2 0 1 1 1 1 1 1 1 1 1 1 1 1 1 1 1 1 0 1 1 1 1 1 1\n",
      " 1 1 1 1 0 1 1 1 1 1 1 1 1 1 1]\n",
      "Actual Labels (Validation Set)   : [0, 1, 0, 1, 1, 1, 1, 1, 1, 1, 1, 1, 1, 1, 1, 1, 1, 1, 1, 1, 1, 1, 1, 1, 1, 1, 1, 1, 0, 1, 2, 1, 1, 1, 1, 1, 1, 2, 1, 1, 1, 1, 1, 1, 1, 1, 1, 1, 1, 1, 1, 1, 0, 1, 1, 1, 0, 1, 1, 1, 2, 1, 1, 1, 1, 1, 1, 1, 1, 1, 1, 1, 1, 1, 1, 1, 3, 1, 1, 1, 1, 1, 1, 0, 1, 1, 1, 0, 1, 1, 1, 2, 1, 1, 1, 1, 1, 1, 1, 2, 1, 1, 1, 1, 0, 1, 1, 1, 1, 1, 1, 1, 1, 0, 1, 1, 0, 1, 1, 1, 1, 1, 1, 1, 1, 1]\n",
      "\n",
      "Test Set:\n",
      "[[ 5 13  0]\n",
      " [ 7 90  4]\n",
      " [ 1  6  0]]\n",
      "              precision    recall  f1-score   support\n",
      "\n",
      "           0       0.38      0.28      0.32        18\n",
      "           1       0.83      0.89      0.86       101\n",
      "           2       0.00      0.00      0.00         7\n",
      "\n",
      "    accuracy                           0.75       126\n",
      "   macro avg       0.40      0.39      0.39       126\n",
      "weighted avg       0.72      0.75      0.73       126\n",
      "\n",
      "Accuracy: 75.40%\n",
      "\n",
      "Validation Set:\n",
      "[[  5   4   1   0]\n",
      " [  5 104   1   0]\n",
      " [  0   5   0   0]\n",
      " [  0   1   0   0]]\n",
      "              precision    recall  f1-score   support\n",
      "\n",
      "           0       0.50      0.50      0.50        10\n",
      "           1       0.91      0.95      0.93       110\n",
      "           2       0.00      0.00      0.00         5\n",
      "           3       0.00      0.00      0.00         1\n",
      "\n",
      "    accuracy                           0.87       126\n",
      "   macro avg       0.35      0.36      0.36       126\n",
      "weighted avg       0.84      0.87      0.85       126\n",
      "\n",
      "Accuracy: 86.51%\n"
     ]
    },
    {
     "name": "stderr",
     "output_type": "stream",
     "text": [
      "/Users/kushalsharma/anaconda3/lib/python3.10/site-packages/sklearn/metrics/_classification.py:1327: UndefinedMetricWarning: Precision and F-score are ill-defined and being set to 0.0 in labels with no predicted samples. Use `zero_division` parameter to control this behavior.\n",
      "  _warn_prf(average, modifier, msg_start, len(result))\n",
      "/Users/kushalsharma/anaconda3/lib/python3.10/site-packages/sklearn/metrics/_classification.py:1327: UndefinedMetricWarning: Precision and F-score are ill-defined and being set to 0.0 in labels with no predicted samples. Use `zero_division` parameter to control this behavior.\n",
      "  _warn_prf(average, modifier, msg_start, len(result))\n",
      "/Users/kushalsharma/anaconda3/lib/python3.10/site-packages/sklearn/metrics/_classification.py:1327: UndefinedMetricWarning: Precision and F-score are ill-defined and being set to 0.0 in labels with no predicted samples. Use `zero_division` parameter to control this behavior.\n",
      "  _warn_prf(average, modifier, msg_start, len(result))\n"
     ]
    }
   ],
   "source": [
    "from sklearn.ensemble import RandomForestClassifier\n",
    "from sklearn.metrics import confusion_matrix, classification_report, accuracy_score\n",
    "from sklearn.preprocessing import LabelEncoder\n",
    "\n",
    "# Assuming 'status' is the column to be encoded in your dataset\n",
    "label_encoder = LabelEncoder()\n",
    "y_train_encoded = label_encoder.fit_transform(y_train)\n",
    "y_test_encoded = label_encoder.transform(y_test)\n",
    "y_val_encoded = label_encoder.transform(y_val)  # Assuming you have a validation set 'y_val'\n",
    "\n",
    "# Train the model on the training set\n",
    "model = RandomForestClassifier(n_estimators=300)\n",
    "model.fit(X_train, y_train_encoded)\n",
    "\n",
    "# Predictions on the test set\n",
    "y_test_pred_encoded = model.predict(X_test)\n",
    "y_val_pred_encoded = model.predict(X_val)  # Assuming you have a validation set 'X_val'\n",
    "\n",
    "# Decode the predicted labels back to original status labels\n",
    "y_test_pred = label_encoder.inverse_transform(y_test_pred_encoded)\n",
    "y_val_pred = label_encoder.inverse_transform(y_val_pred_encoded)\n",
    "\n",
    "# Print the predicted labels and compare with the actual labels for both test and validation sets\n",
    "print(\"Test Set:\")\n",
    "print(\"Predicted Labels (Test Set):\", y_test_pred)\n",
    "print(\"Actual Labels (Test Set)   :\", y_test.tolist())  # Convert y_test to a list for easy comparison\n",
    "print(\"\\nValidation Set:\")\n",
    "print(\"Predicted Labels (Validation Set):\", y_val_pred)\n",
    "print(\"Actual Labels (Validation Set)   :\", y_val.tolist())  # Convert y_val to a list for easy comparison\n",
    "\n",
    "# Evaluate the model on the test set\n",
    "print(\"\\nTest Set:\")\n",
    "print(confusion_matrix(y_test, y_test_pred))\n",
    "print(classification_report(y_test, y_test_pred))\n",
    "print(\"Accuracy: {:.2f}%\".format(accuracy_score(y_test, y_test_pred) * 100))\n",
    "\n",
    "# Evaluate the model on the validation set\n",
    "print(\"\\nValidation Set:\")\n",
    "print(confusion_matrix(y_val, y_val_pred))\n",
    "print(classification_report(y_val, y_val_pred))\n",
    "print(\"Accuracy: {:.2f}%\".format(accuracy_score(y_val, y_val_pred) * 100))\n"
   ]
  },
  {
   "cell_type": "code",
   "execution_count": null,
   "id": "50a0da73",
   "metadata": {},
   "outputs": [],
   "source": []
  },
  {
   "cell_type": "code",
   "execution_count": 43,
   "id": "df0ff8ba",
   "metadata": {},
   "outputs": [],
   "source": [
    "## Checking the matching of the numeric values and there corresponding actual label values"
   ]
  },
  {
   "cell_type": "code",
   "execution_count": 44,
   "id": "18b4e086",
   "metadata": {},
   "outputs": [
    {
     "name": "stdout",
     "output_type": "stream",
     "text": [
      "Encoded Labels:\n",
      "Encoded Value: 0 -> Original Label: Overweight\n",
      "Encoded Value: 1 -> Original Label: Stunting\n",
      "Encoded Value: 2 -> Original Label: Underweight\n",
      "Encoded Value: 3 -> Original Label: Wasting\n"
     ]
    }
   ],
   "source": [
    "from sklearn.model_selection import train_test_split\n",
    "from sklearn.preprocessing import LabelEncoder\n",
    "\n",
    "# Assuming 'status' is the column to be encoded in your dataset\n",
    "label_encoder = LabelEncoder()\n",
    "\n",
    "# Create a sample DataFrame with your data\n",
    "# Replace this with your actual dataset\n",
    "data = {'status': ['Stunting', 'Overweight', 'Underweight', 'Wasting', 'Stunting']}\n",
    "df = pd.DataFrame(data)\n",
    "\n",
    "# Fit and transform the LabelEncoder on the original label column\n",
    "encoded_labels = label_encoder.fit_transform(df['status'])\n",
    "\n",
    "# Print the mapping between encoded values and original labels\n",
    "print(\"Encoded Labels:\")\n",
    "for label, encoded_value in zip(label_encoder.classes_, range(len(label_encoder.classes_))):\n",
    "    print(f\"Encoded Value: {encoded_value} -> Original Label: {label}\")\n"
   ]
  },
  {
   "cell_type": "code",
   "execution_count": 45,
   "id": "4f0e1335",
   "metadata": {},
   "outputs": [],
   "source": [
    "## Trying out SMOTE"
   ]
  },
  {
   "cell_type": "code",
   "execution_count": 46,
   "id": "1b2dfb20",
   "metadata": {},
   "outputs": [],
   "source": [
    "# pip install -U imbalanced-learn"
   ]
  },
  {
   "cell_type": "code",
   "execution_count": 47,
   "id": "95875634",
   "metadata": {},
   "outputs": [
    {
     "name": "stdout",
     "output_type": "stream",
     "text": [
      "Before SMOTE - Training set: (585, 7) (585,)\n",
      "Validation set: (126, 7) (126,)\n",
      "Testing set: (126, 7) (126,)\n",
      "\n",
      "After SMOTE - Resampled Training set: (1940, 7) (1940,)\n"
     ]
    }
   ],
   "source": [
    "from imblearn.over_sampling import SMOTE\n",
    "from sklearn.model_selection import train_test_split\n",
    "\n",
    "\n",
    "# Split the dataset into training, validation, and test sets\n",
    "X_train, X_temp, y_train, y_temp = train_test_split(X, y, test_size=0.3, random_state=42)\n",
    "\n",
    "# Split the 'temp' sets into validation and test sets\n",
    "X_val, X_test, y_val, y_test = train_test_split(X_temp, y_temp, test_size=0.5, random_state=42)\n",
    "\n",
    "# Print the shapes of the resulting sets\n",
    "print(\"Before SMOTE - Training set:\", X_train.shape, y_train.shape)\n",
    "print(\"Validation set:\", X_val.shape, y_val.shape)\n",
    "print(\"Testing set:\", X_test.shape, y_test.shape)\n",
    "\n",
    "# Check the number of samples in the minority class\n",
    "min_class_samples = min(y_train.value_counts())\n",
    "\n",
    "# Apply SMOTE only to the training set with k_neighbors\n",
    "k_neighbors = min(6, min_class_samples - 1)  # Ensure k_neighbors is less than min_class_samples\n",
    "smote = SMOTE(random_state=42, k_neighbors=k_neighbors)\n",
    "X_train_resampled, y_train_resampled = smote.fit_resample(X_train, y_train)\n",
    "\n",
    "# Print the shapes of the resampled training set\n",
    "print(\"\\nAfter SMOTE - Resampled Training set:\", X_train_resampled.shape, y_train_resampled.shape)\n",
    "\n",
    "\n",
    "\n"
   ]
  },
  {
   "cell_type": "code",
   "execution_count": 48,
   "id": "a843ccfe",
   "metadata": {},
   "outputs": [
    {
     "name": "stdout",
     "output_type": "stream",
     "text": [
      "Before SMOTE - Training set:\n",
      "1    485\n",
      "0     66\n",
      "2     31\n",
      "3      3\n",
      "Name: Status, dtype: int64\n",
      "\n",
      "After SMOTE - Resampled Training set:\n",
      "1    485\n",
      "0    485\n",
      "2    485\n",
      "3    485\n",
      "Name: Status, dtype: int64\n",
      "\n",
      "Validation set:\n",
      "1    110\n",
      "0     10\n",
      "2      5\n",
      "3      1\n",
      "Name: Status, dtype: int64\n",
      "\n",
      "Testing set:\n",
      "1    101\n",
      "0     18\n",
      "2      7\n",
      "Name: Status, dtype: int64\n"
     ]
    }
   ],
   "source": [
    "# Print the distribution of the target variable before and after SMOTE\n",
    "print(\"Before SMOTE - Training set:\")\n",
    "print(y_train.value_counts())\n",
    "\n",
    "# Print the distribution of the target variable after SMOTE\n",
    "print(\"\\nAfter SMOTE - Resampled Training set:\")\n",
    "print(y_train_resampled.value_counts())\n",
    "\n",
    "# Print the distribution of the target variable in the validation set\n",
    "print(\"\\nValidation set:\")\n",
    "print(y_val.value_counts())\n",
    "\n",
    "# Print the distribution of the target variable in the testing set\n",
    "print(\"\\nTesting set:\")\n",
    "print(y_test.value_counts())\n"
   ]
  }
 ],
 "metadata": {
  "kernelspec": {
   "display_name": "Python 3 (ipykernel)",
   "language": "python",
   "name": "python3"
  },
  "language_info": {
   "codemirror_mode": {
    "name": "ipython",
    "version": 3
   },
   "file_extension": ".py",
   "mimetype": "text/x-python",
   "name": "python",
   "nbconvert_exporter": "python",
   "pygments_lexer": "ipython3",
   "version": "3.10.9"
  }
 },
 "nbformat": 4,
 "nbformat_minor": 5
}
